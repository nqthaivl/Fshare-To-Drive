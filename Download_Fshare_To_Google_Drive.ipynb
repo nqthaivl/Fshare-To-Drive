{
  "nbformat": 4,
  "nbformat_minor": 0,
  "metadata": {
    "colab": {
      "provenance": [],
      "authorship_tag": "ABX9TyOYpsacebGhQtEKhmwtHHQt",
      "include_colab_link": true
    },
    "kernelspec": {
      "name": "python3",
      "display_name": "Python 3"
    },
    "language_info": {
      "name": "python"
    }
  },
  "cells": [
    {
      "cell_type": "markdown",
      "metadata": {
        "id": "view-in-github",
        "colab_type": "text"
      },
      "source": [
        "<a href=\"https://colab.research.google.com/github/nqthaivl/Fshare-To-Drive/blob/main/Download_Fshare_To_Google_Drive.ipynb\" target=\"_parent\"><img src=\"https://colab.research.google.com/assets/colab-badge.svg\" alt=\"Open In Colab\"/></a>"
      ]
    },
    {
      "cell_type": "markdown",
      "source": [
        "**Công Cụ Tải Nhanh Fshare Vào Drive**\n",
        "\n",
        "> Code tham khảo từ: https://github.com/lvdat\n",
        "\n",
        "> Phát triển: [Nguyễn Thái](https://www.nguyenthai.id.vn)\n",
        "\n"
      ],
      "metadata": {
        "id": "PJN-kp2oo0Q9"
      }
    },
    {
      "cell_type": "markdown",
      "source": [
        "**1.Thêm Drive Vào Colab và tải công cụ từ Github**"
      ],
      "metadata": {
        "id": "yUk3RrFJpsmq"
      }
    },
    {
      "cell_type": "code",
      "execution_count": null,
      "metadata": {
        "id": "eTPcORDLoud0"
      },
      "outputs": [],
      "source": [
        "from google.colab import drive\n",
        "drive.mount('/content/drive')\n",
        "!wget -q https://github.com/nqthaivl/Fshare-To-Drive/raw/main/fshare_tool.zip\n",
        "!unzip -o fshare_tool.zip\n",
        "!mv config.ini.example config.ini\n",
        "!pip install -r requirements.txt"
      ]
    },
    {
      "cell_type": "markdown",
      "source": [
        "**2.Đăng nhập Fshare**"
      ],
      "metadata": {
        "id": "22tYNouYtYhJ"
      }
    },
    {
      "cell_type": "code",
      "source": [
        "!python login_fshare.py"
      ],
      "metadata": {
        "id": "ZTwE9bpBtiPu"
      },
      "execution_count": null,
      "outputs": []
    },
    {
      "cell_type": "markdown",
      "source": [
        "**3.Tải Fshare**\n",
        "Hướng dẫn: !python f_dl.py \"link fshare\""
      ],
      "metadata": {
        "id": "ULdjPsVytoWm"
      }
    },
    {
      "cell_type": "code",
      "source": [
        "!python f_dl.py https://www.fshare.vn/file/UGHQ2Q9SX27JVIO"
      ],
      "metadata": {
        "id": "V4UtQ-SQtnwG"
      },
      "execution_count": null,
      "outputs": []
    }
  ]
}
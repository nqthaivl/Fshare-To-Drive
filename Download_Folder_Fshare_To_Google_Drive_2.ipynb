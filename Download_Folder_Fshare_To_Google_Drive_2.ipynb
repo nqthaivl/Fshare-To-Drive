{
  "cells": [
    {
      "cell_type": "markdown",
      "metadata": {
        "id": "view-in-github",
        "colab_type": "text"
      },
      "source": [
        "<a href=\"https://colab.research.google.com/github/nqthaivl/Fshare-To-Drive/blob/main/Download_Folder_Fshare_To_Google_Drive_2.ipynb\" target=\"_parent\"><img src=\"https://colab.research.google.com/assets/colab-badge.svg\" alt=\"Open In Colab\"/></a>"
      ]
    },
    {
      "cell_type": "markdown",
      "metadata": {
        "id": "PJN-kp2oo0Q9"
      },
      "source": [
        "**Công Cụ Tải Nhanh Fshare Vào Drive**\n",
        "\n",
        "> Code tham khảo từ: https://github.com/lvdat\n",
        "\n",
        "> Phát triển: [Nguyễn Thái](https://www.nguyenthai.id.vn)\n",
        "\n"
      ]
    },
    {
      "cell_type": "markdown",
      "source": [
        "# **Download cách 1**\n",
        "Download bạn cần phải có tài khoản vip mới sử dụng được\n",
        "Nếu download cách hai thì không cần login fshare ở bước 1"
      ],
      "metadata": {
        "id": "yBpVOZjHeHhl"
      }
    },
    {
      "cell_type": "markdown",
      "metadata": {
        "id": "yUk3RrFJpsmq"
      },
      "source": [
        "**1.Thêm Drive Vào Colab và tải công cụ từ Github**"
      ]
    },
    {
      "cell_type": "code",
      "execution_count": null,
      "metadata": {
        "id": "eTPcORDLoud0"
      },
      "outputs": [],
      "source": [
        "from google.colab import drive\n",
        "drive.mount('/content/drive')\n",
        "!wget -q https://github.com/nqthaivl/Fshare-To-Drive/raw/main/fshare_tool.zip\n",
        "!unzip -o fshare_tool.zip\n",
        "!mv config.ini.example config.ini\n",
        "!pip install -r requirements.txt"
      ]
    },
    {
      "cell_type": "markdown",
      "metadata": {
        "id": "22tYNouYtYhJ"
      },
      "source": [
        "**2.Đăng nhập Fshare**"
      ]
    },
    {
      "cell_type": "code",
      "execution_count": null,
      "metadata": {
        "id": "ZTwE9bpBtiPu"
      },
      "outputs": [],
      "source": [
        "!python login_fshare.py"
      ]
    },
    {
      "cell_type": "markdown",
      "metadata": {
        "id": "ULdjPsVytoWm"
      },
      "source": [
        "**3.Tải Fshare**\n",
        "Hướng dẫn: !python f_dl.py \"link fshare\""
      ]
    },
    {
      "cell_type": "code",
      "execution_count": null,
      "metadata": {
        "id": "N3sUn-FgtWKR"
      },
      "outputs": [],
      "source": []
    },
    {
      "cell_type": "markdown",
      "source": [
        "# **Download Fshare Cách 2**\n",
        "Download bạn cần phải có tài khoản vip mới sử dụng được nhé"
      ],
      "metadata": {
        "id": "Lyx8r3FCbOUq"
      }
    },
    {
      "cell_type": "code",
      "source": [
        "# @title 1.Cài đặt nodejs\n",
        "# Install dependencies on Ubuntu\n",
        "!sudo apt-get update && \\\n",
        "!sudo apt-get install parallel curl -y && \\\n",
        "!curl -sL https://deb.nodesource.com/setup_10.x | sudo -E bash && \\\n",
        "!sudo apt install -y nodejs"
      ],
      "metadata": {
        "id": "8S9umORvbNip"
      },
      "execution_count": null,
      "outputs": []
    },
    {
      "cell_type": "code",
      "source": [
        "# @title 2.Login FShare\n",
        "!curl -sS https://raw.githubusercontent.com/duythongle/fshare2gdrive/master/fshare2gdrive.js | \\\n",
        "tail -n+2 | node - login \"\" \"\""
      ],
      "metadata": {
        "id": "QuBGzrnDcUS5"
      },
      "execution_count": null,
      "outputs": []
    },
    {
      "cell_type": "code",
      "source": [
        "# @title 3.Download file\n",
        "!curl -sS https://raw.githubusercontent.com/duythongle/fshare2gdrive/master/fshare2gdrive.js | \\\n",
        "tail -n+2 | node - \"<fshare_file_url>\" \"<rclone_remote_name>\" \"<remote_folder_path>\" | bash -s"
      ],
      "metadata": {
        "id": "4TFTINlIdld5"
      },
      "execution_count": null,
      "outputs": []
    },
    {
      "cell_type": "code",
      "source": [
        "# @title 4.Download folder\n",
        "# Generate single file download commands list for later use to a file \"/path/to/temp/commands_list\"\n",
        "curl -sS https://raw.githubusercontent.com/duythongle/fshare2gdrive/master/fshare2gdrive.js | \\\n",
        "tail -n+2 | node - \"<fshare_folder_url>\" \"<rclone_remote_name>\" \"<remote_folder_path>\" | bash -s"
      ],
      "metadata": {
        "id": "DLmKHXSNdxyH"
      },
      "execution_count": null,
      "outputs": []
    }
  ],
  "metadata": {
    "colab": {
      "provenance": [],
      "include_colab_link": true
    },
    "kernelspec": {
      "display_name": "Python 3",
      "name": "python3"
    },
    "language_info": {
      "name": "python"
    }
  },
  "nbformat": 4,
  "nbformat_minor": 0
}